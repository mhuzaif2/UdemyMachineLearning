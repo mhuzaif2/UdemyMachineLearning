{
 "cells": [
  {
   "cell_type": "code",
   "execution_count": 2,
   "metadata": {},
   "outputs": [
    {
     "name": "stderr",
     "output_type": "stream",
     "text": [
      "Using TensorFlow backend.\n"
     ]
    }
   ],
   "source": [
    "import numpy as np\n",
    "import matplotlib.pyplot as plt\n",
    "import keras\n",
    "from keras.models import Sequential\n",
    "from keras.layers import Dense\n",
    "from keras.optimizers import Adam\n",
    "from sklearn import datasets\n",
    "\n"
   ]
  },
  {
   "cell_type": "code",
   "execution_count": 3,
   "metadata": {},
   "outputs": [],
   "source": [
    "def to_one_hot(y, k):\n",
    "    \"\"\"\n",
    "    @brief      Convert numeric class values to one hot vectors\n",
    "    @param      y     An array of labels of length N\n",
    "    @param      k     Number of classes\n",
    "    @return     A 2d array of shape (N x K), where K is the number of classes\n",
    "    \"\"\"\n",
    "    # IMPLEMENT ME\n",
    "    N = len(y)\n",
    "    one_hot = np.zeros([N, k])\n",
    "\n",
    "    for i in range(n_pts):\n",
    "        one_hot[i][y[i]] = 1 \n",
    "    return one_hot"
   ]
  },
  {
   "cell_type": "code",
   "execution_count": 18,
   "metadata": {},
   "outputs": [
    {
     "name": "stdout",
     "output_type": "stream",
     "text": [
      "[[0. 0. 1.]\n",
      " [1. 0. 0.]\n",
      " [0. 0. 1.]\n",
      " ...\n",
      " [0. 0. 1.]\n",
      " [0. 0. 1.]\n",
      " [0. 0. 1.]]\n"
     ]
    }
   ],
   "source": [
    "# Dataset definition\n",
    "\n",
    "n_pts = 600\n",
    "random_state = 123\n",
    "centers = [[-1,1],[-1,-1],[1,-1]]\n",
    "X, Y = datasets.make_blobs(n_pts,random_state,centers=centers,cluster_std=0.4)\n",
    "\n",
    "# One-hot encoding of the data labels\n",
    "\n",
    "k = max(Y)+1\n",
    "Y_one = to_one_hot(Y, k)\n",
    "print(Y_one)   \n",
    "\n"
   ]
  },
  {
   "cell_type": "code",
   "execution_count": 5,
   "metadata": {
    "scrolled": true
   },
   "outputs": [
    {
     "data": {
      "text/plain": [
       "<matplotlib.collections.PathCollection at 0x10be84f28>"
      ]
     },
     "execution_count": 5,
     "metadata": {},
     "output_type": "execute_result"
    },
    {
     "data": {
      "image/png": "[encoded data removed]",
      "text/plain": [
       "<Figure size 432x288 with 1 Axes>"
      ]
     },
     "metadata": {},
     "output_type": "display_data"
    }
   ],
   "source": [
    "# Printing the dataset for visualization\n",
    "plt.scatter(X[Y==0,0],X[Y==0,1])\n",
    "plt.scatter(X[Y==1,0],X[Y==1,1])\n",
    "plt.scatter(X[Y==2,0],X[Y==2,1])"
   ]
  },
  {
   "cell_type": "code",
   "execution_count": 20,
   "metadata": {},
   "outputs": [
    {
     "name": "stdout",
     "output_type": "stream",
     "text": [
      "Epoch 1/100\n",
      "600/600 [==============================] - 0s 330us/step - loss: 2.5745 - acc: 0.0150\n",
      "Epoch 2/100\n",
      "600/600 [==============================] - 0s 50us/step - loss: 1.8623 - acc: 0.1667\n",
      "Epoch 3/100\n",
      "600/600 [==============================] - 0s 53us/step - loss: 1.3240 - acc: 0.4317\n",
      "Epoch 4/100\n",
      "600/600 [==============================] - 0s 54us/step - loss: 0.9421 - acc: 0.6333\n",
      "Epoch 5/100\n",
      "600/600 [==============================] - 0s 49us/step - loss: 0.6852 - acc: 0.7850\n",
      "Epoch 6/100\n",
      "600/600 [==============================] - 0s 51us/step - loss: 0.5224 - acc: 0.9633\n",
      "Epoch 7/100\n",
      "600/600 [==============================] - 0s 60us/step - loss: 0.4165 - acc: 0.9900\n",
      "Epoch 8/100\n",
      "600/600 [==============================] - 0s 51us/step - loss: 0.3458 - acc: 0.9917\n",
      "Epoch 9/100\n",
      "600/600 [==============================] - 0s 49us/step - loss: 0.2953 - acc: 0.9900\n",
      "Epoch 10/100\n",
      "600/600 [==============================] - 0s 53us/step - loss: 0.2576 - acc: 0.9917\n",
      "Epoch 11/100\n",
      "600/600 [==============================] - 0s 55us/step - loss: 0.2289 - acc: 0.9917\n",
      "Epoch 12/100\n",
      "600/600 [==============================] - 0s 50us/step - loss: 0.2061 - acc: 0.9917\n",
      "Epoch 13/100\n",
      "600/600 [==============================] - 0s 57us/step - loss: 0.1875 - acc: 0.9917\n",
      "Epoch 14/100\n",
      "600/600 [==============================] - 0s 50us/step - loss: 0.1724 - acc: 0.9917\n",
      "Epoch 15/100\n",
      "600/600 [==============================] - 0s 49us/step - loss: 0.1594 - acc: 0.9917\n",
      "Epoch 16/100\n",
      "600/600 [==============================] - 0s 51us/step - loss: 0.1486 - acc: 0.9917\n",
      "Epoch 17/100\n",
      "600/600 [==============================] - 0s 50us/step - loss: 0.1394 - acc: 0.9917\n",
      "Epoch 18/100\n",
      "600/600 [==============================] - 0s 48us/step - loss: 0.1312 - acc: 0.9917\n",
      "Epoch 19/100\n",
      "600/600 [==============================] - 0s 54us/step - loss: 0.1241 - acc: 0.9917\n",
      "Epoch 20/100\n",
      "600/600 [==============================] - 0s 47us/step - loss: 0.1177 - acc: 0.9917\n",
      "Epoch 21/100\n",
      "600/600 [==============================] - 0s 48us/step - loss: 0.1122 - acc: 0.9917\n",
      "Epoch 22/100\n",
      "600/600 [==============================] - 0s 48us/step - loss: 0.1072 - acc: 0.9917\n",
      "Epoch 23/100\n",
      "600/600 [==============================] - 0s 48us/step - loss: 0.1026 - acc: 0.9917\n",
      "Epoch 24/100\n",
      "600/600 [==============================] - 0s 48us/step - loss: 0.0986 - acc: 0.9917\n",
      "Epoch 25/100\n",
      "600/600 [==============================] - 0s 48us/step - loss: 0.0948 - acc: 0.9917\n",
      "Epoch 26/100\n",
      "600/600 [==============================] - 0s 52us/step - loss: 0.0914 - acc: 0.9917\n",
      "Epoch 27/100\n",
      "600/600 [==============================] - 0s 49us/step - loss: 0.0883 - acc: 0.9917\n",
      "Epoch 28/100\n",
      "600/600 [==============================] - 0s 50us/step - loss: 0.0854 - acc: 0.9917\n",
      "Epoch 29/100\n",
      "600/600 [==============================] - 0s 52us/step - loss: 0.0827 - acc: 0.9917\n",
      "Epoch 30/100\n",
      "600/600 [==============================] - 0s 50us/step - loss: 0.0803 - acc: 0.9917\n",
      "Epoch 31/100\n",
      "600/600 [==============================] - 0s 53us/step - loss: 0.0781 - acc: 0.9917\n",
      "Epoch 32/100\n",
      "600/600 [==============================] - 0s 48us/step - loss: 0.0759 - acc: 0.9917\n",
      "Epoch 33/100\n",
      "600/600 [==============================] - 0s 50us/step - loss: 0.0739 - acc: 0.9917\n",
      "Epoch 34/100\n",
      "600/600 [==============================] - 0s 54us/step - loss: 0.0721 - acc: 0.9917\n",
      "Epoch 35/100\n",
      "600/600 [==============================] - 0s 52us/step - loss: 0.0702 - acc: 0.9917\n",
      "Epoch 36/100\n",
      "600/600 [==============================] - 0s 48us/step - loss: 0.0687 - acc: 0.9917\n",
      "Epoch 37/100\n",
      "600/600 [==============================] - 0s 47us/step - loss: 0.0672 - acc: 0.9917\n",
      "Epoch 38/100\n",
      "600/600 [==============================] - 0s 52us/step - loss: 0.0658 - acc: 0.9917\n",
      "Epoch 39/100\n",
      "600/600 [==============================] - 0s 46us/step - loss: 0.0642 - acc: 0.9917\n",
      "Epoch 40/100\n",
      "600/600 [==============================] - 0s 49us/step - loss: 0.0630 - acc: 0.9917\n",
      "Epoch 41/100\n",
      "600/600 [==============================] - 0s 51us/step - loss: 0.0618 - acc: 0.9917\n",
      "Epoch 42/100\n",
      "600/600 [==============================] - 0s 49us/step - loss: 0.0606 - acc: 0.9917\n",
      "Epoch 43/100\n",
      "600/600 [==============================] - 0s 47us/step - loss: 0.0594 - acc: 0.9917\n",
      "Epoch 44/100\n",
      "600/600 [==============================] - 0s 46us/step - loss: 0.0584 - acc: 0.9917\n",
      "Epoch 45/100\n",
      "600/600 [==============================] - 0s 47us/step - loss: 0.0575 - acc: 0.9917\n",
      "Epoch 46/100\n",
      "600/600 [==============================] - 0s 48us/step - loss: 0.0564 - acc: 0.9917\n",
      "Epoch 47/100\n",
      "600/600 [==============================] - 0s 50us/step - loss: 0.0555 - acc: 0.9917\n",
      "Epoch 48/100\n",
      "600/600 [==============================] - 0s 49us/step - loss: 0.0546 - acc: 0.9917\n",
      "Epoch 49/100\n",
      "600/600 [==============================] - 0s 50us/step - loss: 0.0539 - acc: 0.9917\n",
      "Epoch 50/100\n",
      "600/600 [==============================] - 0s 53us/step - loss: 0.0529 - acc: 0.9917\n",
      "Epoch 51/100\n",
      "600/600 [==============================] - 0s 50us/step - loss: 0.0522 - acc: 0.9917\n",
      "Epoch 52/100\n",
      "600/600 [==============================] - 0s 49us/step - loss: 0.0514 - acc: 0.9917\n",
      "Epoch 53/100\n",
      "600/600 [==============================] - 0s 48us/step - loss: 0.0508 - acc: 0.9917\n",
      "Epoch 54/100\n",
      "600/600 [==============================] - 0s 50us/step - loss: 0.0501 - acc: 0.9917\n",
      "Epoch 55/100\n",
      "600/600 [==============================] - 0s 51us/step - loss: 0.0493 - acc: 0.9917\n",
      "Epoch 56/100\n",
      "600/600 [==============================] - 0s 48us/step - loss: 0.0489 - acc: 0.9917\n",
      "Epoch 57/100\n",
      "600/600 [==============================] - 0s 49us/step - loss: 0.0482 - acc: 0.9917\n",
      "Epoch 58/100\n",
      "600/600 [==============================] - 0s 52us/step - loss: 0.0476 - acc: 0.9917\n",
      "Epoch 59/100\n",
      "600/600 [==============================] - 0s 54us/step - loss: 0.0470 - acc: 0.9917\n",
      "Epoch 60/100\n",
      "600/600 [==============================] - 0s 51us/step - loss: 0.0465 - acc: 0.9917\n",
      "Epoch 61/100\n",
      "600/600 [==============================] - 0s 53us/step - loss: 0.0459 - acc: 0.9917\n",
      "Epoch 62/100\n",
      "600/600 [==============================] - 0s 50us/step - loss: 0.0455 - acc: 0.9917\n",
      "Epoch 63/100\n",
      "600/600 [==============================] - 0s 49us/step - loss: 0.0448 - acc: 0.9917\n",
      "Epoch 64/100\n",
      "600/600 [==============================] - 0s 54us/step - loss: 0.0444 - acc: 0.9917\n",
      "Epoch 65/100\n",
      "600/600 [==============================] - 0s 60us/step - loss: 0.0441 - acc: 0.9917\n",
      "Epoch 66/100\n",
      "600/600 [==============================] - 0s 51us/step - loss: 0.0436 - acc: 0.9917\n",
      "Epoch 67/100\n",
      "600/600 [==============================] - 0s 55us/step - loss: 0.0431 - acc: 0.9917\n",
      "Epoch 68/100\n",
      "600/600 [==============================] - 0s 56us/step - loss: 0.0427 - acc: 0.9917\n",
      "Epoch 69/100\n",
      "600/600 [==============================] - 0s 51us/step - loss: 0.0423 - acc: 0.9917\n",
      "Epoch 70/100\n",
      "600/600 [==============================] - 0s 51us/step - loss: 0.0418 - acc: 0.9917\n",
      "Epoch 71/100\n",
      "600/600 [==============================] - 0s 53us/step - loss: 0.0414 - acc: 0.9917\n",
      "Epoch 72/100\n",
      "600/600 [==============================] - 0s 52us/step - loss: 0.0410 - acc: 0.9917\n",
      "Epoch 73/100\n",
      "600/600 [==============================] - 0s 52us/step - loss: 0.0407 - acc: 0.9917\n",
      "Epoch 74/100\n",
      "600/600 [==============================] - 0s 55us/step - loss: 0.0404 - acc: 0.9917\n",
      "Epoch 75/100\n",
      "600/600 [==============================] - 0s 55us/step - loss: 0.0400 - acc: 0.9917\n",
      "Epoch 76/100\n",
      "600/600 [==============================] - 0s 53us/step - loss: 0.0396 - acc: 0.9917\n",
      "Epoch 77/100\n",
      "600/600 [==============================] - 0s 57us/step - loss: 0.0392 - acc: 0.9917\n",
      "Epoch 78/100\n",
      "600/600 [==============================] - 0s 56us/step - loss: 0.0391 - acc: 0.9917\n",
      "Epoch 79/100\n",
      "600/600 [==============================] - 0s 50us/step - loss: 0.0388 - acc: 0.9917\n",
      "Epoch 80/100\n",
      "600/600 [==============================] - 0s 57us/step - loss: 0.0383 - acc: 0.9917\n",
      "Epoch 81/100\n",
      "600/600 [==============================] - 0s 53us/step - loss: 0.0380 - acc: 0.9917\n",
      "Epoch 82/100\n",
      "600/600 [==============================] - 0s 50us/step - loss: 0.0378 - acc: 0.9917\n",
      "Epoch 83/100\n",
      "600/600 [==============================] - 0s 57us/step - loss: 0.0375 - acc: 0.9917\n",
      "Epoch 84/100\n"
     ]
    },
    {
     "name": "stdout",
     "output_type": "stream",
     "text": [
      "600/600 [==============================] - 0s 57us/step - loss: 0.0372 - acc: 0.9917\n",
      "Epoch 85/100\n",
      "600/600 [==============================] - 0s 52us/step - loss: 0.0370 - acc: 0.9917\n",
      "Epoch 86/100\n",
      "600/600 [==============================] - 0s 56us/step - loss: 0.0366 - acc: 0.9917\n",
      "Epoch 87/100\n",
      "600/600 [==============================] - 0s 54us/step - loss: 0.0366 - acc: 0.9917\n",
      "Epoch 88/100\n",
      "600/600 [==============================] - 0s 52us/step - loss: 0.0361 - acc: 0.9917\n",
      "Epoch 89/100\n",
      "600/600 [==============================] - 0s 52us/step - loss: 0.0359 - acc: 0.9917\n",
      "Epoch 90/100\n",
      "600/600 [==============================] - 0s 52us/step - loss: 0.0357 - acc: 0.9917\n",
      "Epoch 91/100\n",
      "600/600 [==============================] - 0s 50us/step - loss: 0.0355 - acc: 0.9917\n",
      "Epoch 92/100\n",
      "600/600 [==============================] - 0s 49us/step - loss: 0.0353 - acc: 0.9917\n",
      "Epoch 93/100\n",
      "600/600 [==============================] - 0s 54us/step - loss: 0.0350 - acc: 0.9917\n",
      "Epoch 94/100\n",
      "600/600 [==============================] - 0s 52us/step - loss: 0.0348 - acc: 0.9917\n",
      "Epoch 95/100\n",
      "600/600 [==============================] - 0s 48us/step - loss: 0.0346 - acc: 0.9917\n",
      "Epoch 96/100\n",
      "600/600 [==============================] - 0s 53us/step - loss: 0.0343 - acc: 0.9917\n",
      "Epoch 97/100\n",
      "600/600 [==============================] - 0s 52us/step - loss: 0.0342 - acc: 0.9917\n",
      "Epoch 98/100\n",
      "600/600 [==============================] - 0s 50us/step - loss: 0.0341 - acc: 0.9917\n",
      "Epoch 99/100\n",
      "600/600 [==============================] - 0s 51us/step - loss: 0.0337 - acc: 0.9917\n",
      "Epoch 100/100\n",
      "600/600 [==============================] - 0s 53us/step - loss: 0.0335 - acc: 0.9917\n"
     ]
    }
   ],
   "source": [
    "# Initializing the Deep Neural Network\n",
    "\n",
    "model = Sequential()\n",
    "\n",
    "model.add(Dense(units=3, input_shape =(2,), activation = 'softmax'))\n",
    "# model.add(Dense(3, activation='sigmoid'))\n",
    "adam=Adam(lr=0.01)\n",
    "\n",
    "model.compile(adam, \n",
    "             loss='categorical_crossentropy',\n",
    "             metrics=['accuracy'])\n",
    "h=model.fit(x=X, \n",
    "            y=Y_one,\n",
    "           verbose=1,\n",
    "           batch_size=20,\n",
    "           epochs=100, shuffle='true'\n",
    "           )"
   ]
  },
  {
   "cell_type": "code",
   "execution_count": 21,
   "metadata": {},
   "outputs": [
    {
     "data": {
      "text/plain": [
       "<matplotlib.legend.Legend at 0x10c849860>"
      ]
     },
     "execution_count": 21,
     "metadata": {},
     "output_type": "execute_result"
    },
    {
     "data": {
      "image/png": "[encoded data removed]",
      "text/plain": [
       "<Figure size 432x288 with 1 Axes>"
      ]
     },
     "metadata": {},
     "output_type": "display_data"
    }
   ],
   "source": [
    "# Plotting the results\n",
    "\n",
    "plt.plot(h.history['loss'])\n",
    "plt.title('Accuracy of Learning')\n",
    "plt.xlabel('Epochs')\n",
    "plt.ylabel('Accuracy')\n",
    "plt.plot(h.history['acc'])\n",
    "plt.legend(['loss','accuracy'])"
   ]
  },
  {
   "cell_type": "code",
   "execution_count": null,
   "metadata": {},
   "outputs": [],
   "source": [
    "def plot_boundary(data, label, model):\n",
    "    x_span = np.linspace(min(data[:,0])-1, max(data[:,0])+1)\n",
    "    y_span = np.linspace(min(data[:,1])-1, max(data[:,1])+1)\n",
    "    xx, yy = np.meshgrid(x_span, y_span)\n",
    "    xx_, yy_ = xx.ravel(), yy.ravel()\n",
    "    grid = np.c_[xx_, yy_] \n",
    "    pred_fun = model.predict(grid)\n",
    "    z = pred_fun.reshape(xx.shape)\n",
    "    plt.contourf(xx, yy, z)\n",
    "    \n",
    "\n",
    "plot_boundary(X, Y_one, model)\n",
    "\n",
    "# Printing the dataset for visualization\n",
    "plt.scatter(X[Y==0,0],X[Y==0,1])\n",
    "plt.scatter(X[Y==1,0],X[Y==1,1])\n",
    "plt.scatter(X[Y==2,0],X[Y==2,1])\n",
    "\n",
    "x = -0.5\n",
    "y = 0.0\n",
    "point = np.array([[x,y]])\n",
    "predict = model.predict(point)\n",
    "plt.plot([x],[y], marker =\"*\",color ='red')\n",
    "print(predict)\n"
   ]
  }
 ],
 "metadata": {
  "kernelspec": {
   "display_name": "Python 3",
   "language": "python",
   "name": "python3"
  },
  "language_info": {
   "codemirror_mode": {
    "name": "ipython",
    "version": 3
   },
   "file_extension": ".py",
   "mimetype": "text/x-python",
   "name": "python",
   "nbconvert_exporter": "python",
   "pygments_lexer": "ipython3",
   "version": "3.6.5"
  }
 },
 "nbformat": 4,
 "nbformat_minor": 2
}
